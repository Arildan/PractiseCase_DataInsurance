{
 "cells": [
  {
   "cell_type": "markdown",
   "metadata": {},
   "source": [
    "# Analyze from Data Insurance\n",
    "\n",
    "### 1. Perform basic exploratory data analysis which include the following and print out your insight at every step\n",
    "\n",
    "- The shape of the data\n",
    "- The data type of each attribute\n",
    "- Checking the presence of missing values\n",
    "- 5 points summary of numerical attributes\n",
    "- Distribution of 'bmi', 'age', and 'charges' columns\n",
    "- The measure of skewness of 'bmi', 'age', and 'charges' columns\n",
    "- Checking the presence of outliers in 'bmi', 'age', and 'charges' columns"
   ]
  },
  {
   "cell_type": "code",
   "execution_count": 1,
   "metadata": {},
   "outputs": [
    {
     "data": {
      "text/html": [
       "<div>\n",
       "<style scoped>\n",
       "    .dataframe tbody tr th:only-of-type {\n",
       "        vertical-align: middle;\n",
       "    }\n",
       "\n",
       "    .dataframe tbody tr th {\n",
       "        vertical-align: top;\n",
       "    }\n",
       "\n",
       "    .dataframe thead th {\n",
       "        text-align: right;\n",
       "    }\n",
       "</style>\n",
       "<table border=\"1\" class=\"dataframe\">\n",
       "  <thead>\n",
       "    <tr style=\"text-align: right;\">\n",
       "      <th></th>\n",
       "      <th>age</th>\n",
       "      <th>sex</th>\n",
       "      <th>bmi</th>\n",
       "      <th>children</th>\n",
       "      <th>smoker</th>\n",
       "      <th>region</th>\n",
       "      <th>charges</th>\n",
       "    </tr>\n",
       "  </thead>\n",
       "  <tbody>\n",
       "    <tr>\n",
       "      <td>0</td>\n",
       "      <td>19</td>\n",
       "      <td>female</td>\n",
       "      <td>27.900</td>\n",
       "      <td>0</td>\n",
       "      <td>yes</td>\n",
       "      <td>southwest</td>\n",
       "      <td>16884.92400</td>\n",
       "    </tr>\n",
       "    <tr>\n",
       "      <td>1</td>\n",
       "      <td>18</td>\n",
       "      <td>male</td>\n",
       "      <td>33.770</td>\n",
       "      <td>1</td>\n",
       "      <td>no</td>\n",
       "      <td>southeast</td>\n",
       "      <td>1725.55230</td>\n",
       "    </tr>\n",
       "    <tr>\n",
       "      <td>2</td>\n",
       "      <td>28</td>\n",
       "      <td>male</td>\n",
       "      <td>33.000</td>\n",
       "      <td>3</td>\n",
       "      <td>no</td>\n",
       "      <td>southeast</td>\n",
       "      <td>4449.46200</td>\n",
       "    </tr>\n",
       "    <tr>\n",
       "      <td>3</td>\n",
       "      <td>33</td>\n",
       "      <td>male</td>\n",
       "      <td>22.705</td>\n",
       "      <td>0</td>\n",
       "      <td>no</td>\n",
       "      <td>northwest</td>\n",
       "      <td>21984.47061</td>\n",
       "    </tr>\n",
       "    <tr>\n",
       "      <td>4</td>\n",
       "      <td>32</td>\n",
       "      <td>male</td>\n",
       "      <td>28.880</td>\n",
       "      <td>0</td>\n",
       "      <td>no</td>\n",
       "      <td>northwest</td>\n",
       "      <td>3866.85520</td>\n",
       "    </tr>\n",
       "  </tbody>\n",
       "</table>\n",
       "</div>"
      ],
      "text/plain": [
       "   age     sex     bmi  children smoker     region      charges\n",
       "0   19  female  27.900         0    yes  southwest  16884.92400\n",
       "1   18    male  33.770         1     no  southeast   1725.55230\n",
       "2   28    male  33.000         3     no  southeast   4449.46200\n",
       "3   33    male  22.705         0     no  northwest  21984.47061\n",
       "4   32    male  28.880         0     no  northwest   3866.85520"
      ]
     },
     "execution_count": 1,
     "metadata": {},
     "output_type": "execute_result"
    }
   ],
   "source": [
    "# import module pandas \n",
    "import pandas as pd\n",
    "\n",
    "#import file csv and display the top 5 data\n",
    "df = pd.read_csv(r'insurance.csv')\n",
    "df.head()"
   ]
  },
  {
   "cell_type": "markdown",
   "metadata": {},
   "source": [
    "##### a. Checking shapae of the data"
   ]
  },
  {
   "cell_type": "code",
   "execution_count": 2,
   "metadata": {},
   "outputs": [
    {
     "data": {
      "text/plain": [
       "(1338, 7)"
      ]
     },
     "execution_count": 2,
     "metadata": {},
     "output_type": "execute_result"
    }
   ],
   "source": [
    "# checking shape of the data\n",
    "\n",
    "df.shape"
   ]
  },
  {
   "cell_type": "markdown",
   "metadata": {},
   "source": [
    "##### b. Checking data type"
   ]
  },
  {
   "cell_type": "code",
   "execution_count": 3,
   "metadata": {},
   "outputs": [
    {
     "name": "stdout",
     "output_type": "stream",
     "text": [
      "<class 'pandas.core.frame.DataFrame'>\n",
      "RangeIndex: 1338 entries, 0 to 1337\n",
      "Data columns (total 7 columns):\n",
      "age         1338 non-null int64\n",
      "sex         1338 non-null object\n",
      "bmi         1338 non-null float64\n",
      "children    1338 non-null int64\n",
      "smoker      1338 non-null object\n",
      "region      1338 non-null object\n",
      "charges     1338 non-null float64\n",
      "dtypes: float64(2), int64(2), object(3)\n",
      "memory usage: 73.3+ KB\n"
     ]
    }
   ],
   "source": [
    "# checking data type of each attribute\n",
    "\n",
    "df.info()"
   ]
  },
  {
   "cell_type": "markdown",
   "metadata": {},
   "source": [
    "##### c. Checking missing values"
   ]
  },
  {
   "cell_type": "code",
   "execution_count": 17,
   "metadata": {},
   "outputs": [
    {
     "data": {
      "text/html": [
       "<div>\n",
       "<style scoped>\n",
       "    .dataframe tbody tr th:only-of-type {\n",
       "        vertical-align: middle;\n",
       "    }\n",
       "\n",
       "    .dataframe tbody tr th {\n",
       "        vertical-align: top;\n",
       "    }\n",
       "\n",
       "    .dataframe thead th {\n",
       "        text-align: right;\n",
       "    }\n",
       "</style>\n",
       "<table border=\"1\" class=\"dataframe\">\n",
       "  <thead>\n",
       "    <tr style=\"text-align: right;\">\n",
       "      <th></th>\n",
       "      <th>age</th>\n",
       "      <th>sex</th>\n",
       "      <th>bmi</th>\n",
       "      <th>children</th>\n",
       "      <th>smoker</th>\n",
       "      <th>region</th>\n",
       "      <th>charges</th>\n",
       "    </tr>\n",
       "  </thead>\n",
       "  <tbody>\n",
       "  </tbody>\n",
       "</table>\n",
       "</div>"
      ],
      "text/plain": [
       "Empty DataFrame\n",
       "Columns: [age, sex, bmi, children, smoker, region, charges]\n",
       "Index: []"
      ]
     },
     "execution_count": 17,
     "metadata": {},
     "output_type": "execute_result"
    }
   ],
   "source": [
    "# checking the presence of missing values\n",
    "\n",
    "age_null = pd.isnull(df['age'])\n",
    "sex_null = pd.isnull(df['sex'])\n",
    "bmi_null = pd.isnull(df['bmi'])\n",
    "child_null = pd.isnull(df['children'])\n",
    "smoke_null = pd.isnull(df['smoker'])\n",
    "reg_null = pd.isnull(df['region'])\n",
    "charg_null = pd.isnull(df['charges'])\n",
    "\n",
    "#let's check is there any null value in the columns\n",
    "df[age_null]"
   ]
  },
  {
   "cell_type": "code",
   "execution_count": 18,
   "metadata": {},
   "outputs": [
    {
     "data": {
      "text/html": [
       "<div>\n",
       "<style scoped>\n",
       "    .dataframe tbody tr th:only-of-type {\n",
       "        vertical-align: middle;\n",
       "    }\n",
       "\n",
       "    .dataframe tbody tr th {\n",
       "        vertical-align: top;\n",
       "    }\n",
       "\n",
       "    .dataframe thead th {\n",
       "        text-align: right;\n",
       "    }\n",
       "</style>\n",
       "<table border=\"1\" class=\"dataframe\">\n",
       "  <thead>\n",
       "    <tr style=\"text-align: right;\">\n",
       "      <th></th>\n",
       "      <th>age</th>\n",
       "      <th>sex</th>\n",
       "      <th>bmi</th>\n",
       "      <th>children</th>\n",
       "      <th>smoker</th>\n",
       "      <th>region</th>\n",
       "      <th>charges</th>\n",
       "    </tr>\n",
       "  </thead>\n",
       "  <tbody>\n",
       "  </tbody>\n",
       "</table>\n",
       "</div>"
      ],
      "text/plain": [
       "Empty DataFrame\n",
       "Columns: [age, sex, bmi, children, smoker, region, charges]\n",
       "Index: []"
      ]
     },
     "execution_count": 18,
     "metadata": {},
     "output_type": "execute_result"
    }
   ],
   "source": [
    "df[sex_null]"
   ]
  },
  {
   "cell_type": "code",
   "execution_count": 19,
   "metadata": {},
   "outputs": [
    {
     "data": {
      "text/html": [
       "<div>\n",
       "<style scoped>\n",
       "    .dataframe tbody tr th:only-of-type {\n",
       "        vertical-align: middle;\n",
       "    }\n",
       "\n",
       "    .dataframe tbody tr th {\n",
       "        vertical-align: top;\n",
       "    }\n",
       "\n",
       "    .dataframe thead th {\n",
       "        text-align: right;\n",
       "    }\n",
       "</style>\n",
       "<table border=\"1\" class=\"dataframe\">\n",
       "  <thead>\n",
       "    <tr style=\"text-align: right;\">\n",
       "      <th></th>\n",
       "      <th>age</th>\n",
       "      <th>sex</th>\n",
       "      <th>bmi</th>\n",
       "      <th>children</th>\n",
       "      <th>smoker</th>\n",
       "      <th>region</th>\n",
       "      <th>charges</th>\n",
       "    </tr>\n",
       "  </thead>\n",
       "  <tbody>\n",
       "  </tbody>\n",
       "</table>\n",
       "</div>"
      ],
      "text/plain": [
       "Empty DataFrame\n",
       "Columns: [age, sex, bmi, children, smoker, region, charges]\n",
       "Index: []"
      ]
     },
     "execution_count": 19,
     "metadata": {},
     "output_type": "execute_result"
    }
   ],
   "source": [
    "df[bmi_null]"
   ]
  },
  {
   "cell_type": "code",
   "execution_count": 20,
   "metadata": {},
   "outputs": [
    {
     "data": {
      "text/html": [
       "<div>\n",
       "<style scoped>\n",
       "    .dataframe tbody tr th:only-of-type {\n",
       "        vertical-align: middle;\n",
       "    }\n",
       "\n",
       "    .dataframe tbody tr th {\n",
       "        vertical-align: top;\n",
       "    }\n",
       "\n",
       "    .dataframe thead th {\n",
       "        text-align: right;\n",
       "    }\n",
       "</style>\n",
       "<table border=\"1\" class=\"dataframe\">\n",
       "  <thead>\n",
       "    <tr style=\"text-align: right;\">\n",
       "      <th></th>\n",
       "      <th>age</th>\n",
       "      <th>sex</th>\n",
       "      <th>bmi</th>\n",
       "      <th>children</th>\n",
       "      <th>smoker</th>\n",
       "      <th>region</th>\n",
       "      <th>charges</th>\n",
       "    </tr>\n",
       "  </thead>\n",
       "  <tbody>\n",
       "  </tbody>\n",
       "</table>\n",
       "</div>"
      ],
      "text/plain": [
       "Empty DataFrame\n",
       "Columns: [age, sex, bmi, children, smoker, region, charges]\n",
       "Index: []"
      ]
     },
     "execution_count": 20,
     "metadata": {},
     "output_type": "execute_result"
    }
   ],
   "source": [
    "df[child_null]"
   ]
  },
  {
   "cell_type": "code",
   "execution_count": 21,
   "metadata": {},
   "outputs": [
    {
     "data": {
      "text/html": [
       "<div>\n",
       "<style scoped>\n",
       "    .dataframe tbody tr th:only-of-type {\n",
       "        vertical-align: middle;\n",
       "    }\n",
       "\n",
       "    .dataframe tbody tr th {\n",
       "        vertical-align: top;\n",
       "    }\n",
       "\n",
       "    .dataframe thead th {\n",
       "        text-align: right;\n",
       "    }\n",
       "</style>\n",
       "<table border=\"1\" class=\"dataframe\">\n",
       "  <thead>\n",
       "    <tr style=\"text-align: right;\">\n",
       "      <th></th>\n",
       "      <th>age</th>\n",
       "      <th>sex</th>\n",
       "      <th>bmi</th>\n",
       "      <th>children</th>\n",
       "      <th>smoker</th>\n",
       "      <th>region</th>\n",
       "      <th>charges</th>\n",
       "    </tr>\n",
       "  </thead>\n",
       "  <tbody>\n",
       "  </tbody>\n",
       "</table>\n",
       "</div>"
      ],
      "text/plain": [
       "Empty DataFrame\n",
       "Columns: [age, sex, bmi, children, smoker, region, charges]\n",
       "Index: []"
      ]
     },
     "execution_count": 21,
     "metadata": {},
     "output_type": "execute_result"
    }
   ],
   "source": [
    "df[smoke_null]"
   ]
  },
  {
   "cell_type": "code",
   "execution_count": 22,
   "metadata": {},
   "outputs": [
    {
     "data": {
      "text/html": [
       "<div>\n",
       "<style scoped>\n",
       "    .dataframe tbody tr th:only-of-type {\n",
       "        vertical-align: middle;\n",
       "    }\n",
       "\n",
       "    .dataframe tbody tr th {\n",
       "        vertical-align: top;\n",
       "    }\n",
       "\n",
       "    .dataframe thead th {\n",
       "        text-align: right;\n",
       "    }\n",
       "</style>\n",
       "<table border=\"1\" class=\"dataframe\">\n",
       "  <thead>\n",
       "    <tr style=\"text-align: right;\">\n",
       "      <th></th>\n",
       "      <th>age</th>\n",
       "      <th>sex</th>\n",
       "      <th>bmi</th>\n",
       "      <th>children</th>\n",
       "      <th>smoker</th>\n",
       "      <th>region</th>\n",
       "      <th>charges</th>\n",
       "    </tr>\n",
       "  </thead>\n",
       "  <tbody>\n",
       "  </tbody>\n",
       "</table>\n",
       "</div>"
      ],
      "text/plain": [
       "Empty DataFrame\n",
       "Columns: [age, sex, bmi, children, smoker, region, charges]\n",
       "Index: []"
      ]
     },
     "execution_count": 22,
     "metadata": {},
     "output_type": "execute_result"
    }
   ],
   "source": [
    "df[reg_null]"
   ]
  },
  {
   "cell_type": "code",
   "execution_count": 23,
   "metadata": {},
   "outputs": [
    {
     "data": {
      "text/html": [
       "<div>\n",
       "<style scoped>\n",
       "    .dataframe tbody tr th:only-of-type {\n",
       "        vertical-align: middle;\n",
       "    }\n",
       "\n",
       "    .dataframe tbody tr th {\n",
       "        vertical-align: top;\n",
       "    }\n",
       "\n",
       "    .dataframe thead th {\n",
       "        text-align: right;\n",
       "    }\n",
       "</style>\n",
       "<table border=\"1\" class=\"dataframe\">\n",
       "  <thead>\n",
       "    <tr style=\"text-align: right;\">\n",
       "      <th></th>\n",
       "      <th>age</th>\n",
       "      <th>sex</th>\n",
       "      <th>bmi</th>\n",
       "      <th>children</th>\n",
       "      <th>smoker</th>\n",
       "      <th>region</th>\n",
       "      <th>charges</th>\n",
       "    </tr>\n",
       "  </thead>\n",
       "  <tbody>\n",
       "  </tbody>\n",
       "</table>\n",
       "</div>"
      ],
      "text/plain": [
       "Empty DataFrame\n",
       "Columns: [age, sex, bmi, children, smoker, region, charges]\n",
       "Index: []"
      ]
     },
     "execution_count": 23,
     "metadata": {},
     "output_type": "execute_result"
    }
   ],
   "source": [
    "df[charg_null]"
   ]
  },
  {
   "cell_type": "markdown",
   "metadata": {},
   "source": [
    "###### there is no missing value"
   ]
  },
  {
   "cell_type": "markdown",
   "metadata": {},
   "source": [
    "##### d. 5 points summary of numerical attributes"
   ]
  },
  {
   "cell_type": "code",
   "execution_count": 24,
   "metadata": {},
   "outputs": [
    {
     "data": {
      "text/html": [
       "<div>\n",
       "<style scoped>\n",
       "    .dataframe tbody tr th:only-of-type {\n",
       "        vertical-align: middle;\n",
       "    }\n",
       "\n",
       "    .dataframe tbody tr th {\n",
       "        vertical-align: top;\n",
       "    }\n",
       "\n",
       "    .dataframe thead th {\n",
       "        text-align: right;\n",
       "    }\n",
       "</style>\n",
       "<table border=\"1\" class=\"dataframe\">\n",
       "  <thead>\n",
       "    <tr style=\"text-align: right;\">\n",
       "      <th></th>\n",
       "      <th>age</th>\n",
       "      <th>bmi</th>\n",
       "      <th>children</th>\n",
       "      <th>charges</th>\n",
       "    </tr>\n",
       "  </thead>\n",
       "  <tbody>\n",
       "    <tr>\n",
       "      <td>count</td>\n",
       "      <td>1338.000000</td>\n",
       "      <td>1338.000000</td>\n",
       "      <td>1338.000000</td>\n",
       "      <td>1338.000000</td>\n",
       "    </tr>\n",
       "    <tr>\n",
       "      <td>mean</td>\n",
       "      <td>39.207025</td>\n",
       "      <td>30.663397</td>\n",
       "      <td>1.094918</td>\n",
       "      <td>13270.422265</td>\n",
       "    </tr>\n",
       "    <tr>\n",
       "      <td>std</td>\n",
       "      <td>14.049960</td>\n",
       "      <td>6.098187</td>\n",
       "      <td>1.205493</td>\n",
       "      <td>12110.011237</td>\n",
       "    </tr>\n",
       "    <tr>\n",
       "      <td>min</td>\n",
       "      <td>18.000000</td>\n",
       "      <td>15.960000</td>\n",
       "      <td>0.000000</td>\n",
       "      <td>1121.873900</td>\n",
       "    </tr>\n",
       "    <tr>\n",
       "      <td>25%</td>\n",
       "      <td>27.000000</td>\n",
       "      <td>26.296250</td>\n",
       "      <td>0.000000</td>\n",
       "      <td>4740.287150</td>\n",
       "    </tr>\n",
       "    <tr>\n",
       "      <td>50%</td>\n",
       "      <td>39.000000</td>\n",
       "      <td>30.400000</td>\n",
       "      <td>1.000000</td>\n",
       "      <td>9382.033000</td>\n",
       "    </tr>\n",
       "    <tr>\n",
       "      <td>75%</td>\n",
       "      <td>51.000000</td>\n",
       "      <td>34.693750</td>\n",
       "      <td>2.000000</td>\n",
       "      <td>16639.912515</td>\n",
       "    </tr>\n",
       "    <tr>\n",
       "      <td>max</td>\n",
       "      <td>64.000000</td>\n",
       "      <td>53.130000</td>\n",
       "      <td>5.000000</td>\n",
       "      <td>63770.428010</td>\n",
       "    </tr>\n",
       "  </tbody>\n",
       "</table>\n",
       "</div>"
      ],
      "text/plain": [
       "               age          bmi     children       charges\n",
       "count  1338.000000  1338.000000  1338.000000   1338.000000\n",
       "mean     39.207025    30.663397     1.094918  13270.422265\n",
       "std      14.049960     6.098187     1.205493  12110.011237\n",
       "min      18.000000    15.960000     0.000000   1121.873900\n",
       "25%      27.000000    26.296250     0.000000   4740.287150\n",
       "50%      39.000000    30.400000     1.000000   9382.033000\n",
       "75%      51.000000    34.693750     2.000000  16639.912515\n",
       "max      64.000000    53.130000     5.000000  63770.428010"
      ]
     },
     "execution_count": 24,
     "metadata": {},
     "output_type": "execute_result"
    }
   ],
   "source": [
    "# 5 points summary of numerical attributes\n",
    "\n",
    "df.describe()"
   ]
  },
  {
   "cell_type": "markdown",
   "metadata": {},
   "source": [
    "##### e. Distribution of 'bmi', 'age', and 'charges'"
   ]
  },
  {
   "cell_type": "code",
   "execution_count": 37,
   "metadata": {},
   "outputs": [
    {
     "data": {
      "image/png": "[encoded data removed]",
      "text/plain": [
       "<Figure size 432x288 with 3 Axes>"
      ]
     },
     "metadata": {
      "needs_background": "light"
     },
     "output_type": "display_data"
    }
   ],
   "source": [
    "# distribution of 'bmi', 'age', and 'charges'\n",
    "\n",
    "#import module\n",
    "import matplotlib.pyplot as plt\n",
    "\n",
    "#set up and draw the plot\n",
    "\n",
    "ax1 = plt.subplot(2,2,1)\n",
    "ax1.hist(df['bmi'], bins = int(180/5),\n",
    "        color='blue',edgecolor='black')\n",
    "ax1.set_title('Histogram from BMI')\n",
    "ax1.set_xlabel('bmi', size=7)\n",
    "ax1.set_ylabel('amount from account holder', size = 7)\n",
    "\n",
    "ax2 = plt.subplot(2,2,2)\n",
    "ax2.hist(df['age'],bins = int(180/5),\n",
    "        color='blue',edgecolor='black')\n",
    "ax2.set_title('Histogram from Age')\n",
    "ax2.set_xlabel('age',size=7)\n",
    "ax2.set_ylabel('amount from account holder', size=7)\n",
    "\n",
    "ax3 = plt.subplot(2,2,3)\n",
    "ax3.hist(df['charges'],bins=int(180/5),\n",
    "        color='blue',edgecolor='black')\n",
    "ax3.set_title('Histogram from charge')\n",
    "ax3.set_xlabel('charge',size=7)\n",
    "ax3.set_ylabel('amount from account holder',size=7)\n",
    "\n",
    "plt.tight_layout()\n",
    "plt.show()\n"
   ]
  },
  {
   "cell_type": "markdown",
   "metadata": {},
   "source": [
    "##### f. Skewness"
   ]
  },
  {
   "cell_type": "code",
   "execution_count": 43,
   "metadata": {},
   "outputs": [
    {
     "name": "stdout",
     "output_type": "stream",
     "text": [
      "Skewness of BMI : 0.2840471105987448\n",
      "Skewness of Age : 0.05567251565299186\n",
      "Skewness of charges : 1.5158796580240388\n"
     ]
    }
   ],
   "source": [
    "# the measure of skewness of 'bmi','age', and 'charges' columns\n",
    "\n",
    "bmi_skew = df['bmi'].skew()\n",
    "age_skew = df['age'].skew()\n",
    "charge_skew = df['charges'].skew()\n",
    "\n",
    "print('Skewness of BMI :', bmi_skew)\n",
    "print('Skewness of Age :', age_skew)\n",
    "print('Skewness of charges :', charge_skew)"
   ]
  },
  {
   "cell_type": "markdown",
   "metadata": {},
   "source": [
    "##### g. Outliers"
   ]
  },
  {
   "cell_type": "code",
   "execution_count": 55,
   "metadata": {},
   "outputs": [
    {
     "name": "stdout",
     "output_type": "stream",
     "text": [
      "BMI\n",
      "lower bound bmi : 13.7\n",
      "upper bound bmi : 47.290000000000006\n",
      "outliers from BMI : [47.41, 47.52, 47.6, 47.74, 48.07, 49.06, 50.38, 52.58, 53.13]\n",
      "---------------------------------\n",
      "AGE\n",
      "lower bound age : -9.0\n",
      "upper bound age : 87.0\n",
      "outliers from AGE : []\n",
      "---------------------------------\n",
      "Charges\n",
      "lower bound charge : 13.7\n",
      "upper bound charge : 47.290000000000006\n",
      "outliers from Charges : [1121.8739, 1131.5066, 1135.9407, 1136.3994, 1137.011, 1137.4697, 1141.4451, 1146.7966, 1149.3959, 1163.4627, 1241.565, 1242.26, 1242.816, 1252.407, 1253.9360000000001, 1256.299, 1261.442, 1261.859, 1263.249, 1391.5287, 1515.3449, 1526.3120000000001, 1532.4697, 1534.3045, 1607.5101, 1615.7667, 1621.3402, 1621.8827, 1622.1885, 1625.43375, 1627.28245, 1628.4709, 1629.8335, 1631.6683, 1631.8212, 1632.03625, 1632.56445, 1633.0444, 1633.9618, 1634.5734, 1635.73365, 1639.5631, 1639.5631, 1646.4297, 1664.9996, 1674.6323, 1682.5970000000002, 1694.7964, 1702.4553, 1704.5681, 1704.70015, 1705.6245, 1708.0014, 1708.92575, 1711.0268, 1712.227, 1719.4363, 1720.3537, 1725.5523, 1727.54, 1727.785, 1728.8970000000002, 1731.6770000000001, 1737.376, 1743.214, 1744.465, 1748.774, 1759.338, 1769.53165, 1815.8759, 1824.2854, 1826.8429999999998, 1832.094, 1837.237, 1837.2819, 1842.519, 1875.344, 1877.9294, 1880.07, 1880.487, 1906.35825, 1909.52745, 1917.3184, 1964.78, 1967.0227, 1969.614, 1972.95, 1977.815, 1980.07, 1981.5819, 1984.4533, 1986.9334, 2007.945, 2020.1770000000001, 2020.5523, 2026.9741, 2045.68525, 2055.3249, 2102.2647, 2103.08, 2104.1134, 2117.33885, 2128.43105, 2130.6759, 2134.9015, 2136.88225, 2137.6536, 2138.0707, 2150.469, 2154.361, 2155.6815, 2156.7518, 2166.732, 2196.4732, 2198.18985, 2200.83085, 2201.0971, 2203.47185, 2203.73595, 2205.9808, 2207.69745, 2211.13075, 2217.46915, 2217.6012, 2219.4451, 2221.56445, 2250.8352, 2254.7967, 2257.47525, 2261.5688, 2302.3, 2304.0022, 2322.6218, 2331.519, 2352.96845, 2362.22905, 2395.17155, 2396.0959, 2404.7338, 2416.955, 2438.0552, 2457.21115, 2457.502, 2459.7201, 2464.6188, 2473.3341, 2480.9791, 2483.736, 2494.022, 2497.0383, 2498.4144, 2523.1695, 2527.81865, 2534.39375, 2566.4707, 2585.269, 2585.85065, 2597.779, 2632.992, 2639.0429, 2643.2685, 2680.9493, 2689.4954, 2690.1138, 2699.56835, 2709.1119, 2709.24395, 2710.82855, 2719.27975, 2721.3208, 2727.3951, 2730.10785, 2731.9122, 2741.948, 2755.02095, 2775.19215, 2789.0574, 2801.2588, 2803.69785, 2842.76075, 2850.68375, 2855.43755, 2866.091, 2867.1196, 2897.3235, 2899.48935, 2902.9065, 2904.0879999999997, 2913.5690000000004, 2927.0647, 2974.1259999999997, 3021.80915, 3044.2133, 3046.062, 3056.3881, 3062.50825, 3070.8087, 3077.0955, 3161.454, 3167.45585, 3171.6149, 3172.018, 3176.2877, 3176.8159, 3180.5101, 3201.24515, 3206.49135, 3208.7870000000003, 3213.62205, 3227.1211, 3238.4357, 3260.199, 3268.84665, 3277.1609999999996, 3279.86855, 3292.52985, 3309.7926, 3353.284, 3353.4703, 3366.6697, 3378.91, 3385.39915, 3392.3652, 3392.9768, 3393.35635, 3410.324, 3443.0640000000003, 3471.4096, 3481.868, 3484.3309999999997, 3490.5491, 3500.6123, 3537.703, 3554.203, 3556.9223, 3558.62025, 3561.8889, 3577.9990000000003, 3579.8287, 3591.48, 3594.17085, 3597.5959999999995, 3645.0894, 3659.3459999999995, 3693.428, 3704.3545, 3732.6251, 3736.4647, 3756.6216, 3757.8448, 3761.292, 3766.8838, 3847.6740000000004, 3857.75925, 3861.20965, 3866.8552, 3875.7341, 3877.30425, 3906.127, 3925.7582, 3935.1799, 3943.5954, 3947.4131, 3956.07145, 3972.9247, 3981.9768, 3987.926, 3989.841, 3994.1778, 4005.4225, 4032.2407, 4040.55825, 4058.1161, 4058.71245, 4074.4537, 4076.4970000000003, 4133.64165, 4134.08245, 4137.5227, 4149.736, 4151.0287, 4185.0979, 4189.1131, 4234.927, 4237.12655, 4239.89265, 4243.59005, 4260.744000000001, 4266.1658, 4296.2712, 4320.41085, 4337.7352, 4340.4409, 4347.02335, 4349.462, 4350.5144, 4357.04365, 4391.652, 4399.731, 4402.233, 4415.1588, 4428.88785, 4433.3877, 4433.9159, 4435.0942, 4438.2634, 4441.21315, 4449.462, 4454.40265, 4462.7218, 4463.2051, 4466.6214, 4500.33925, 4504.6624, 4518.82625, 4527.18295, 4529.477, 4536.259, 4544.2348, 4561.1885, 4562.8421, 4564.19145, 4571.41305, 4618.0799, 4646.759, 4661.28635, 4667.60765, 4670.64, 4673.3922, 4686.3887, 4687.7970000000005, 4718.20355, 4719.52405, 4719.73655, 4738.2682, 4746.344, 4747.0529, 4751.07, 4753.6368, 4762.329000000001, 4766.022, 4779.6023, 4795.6568, 4827.90495, 4830.63, 4837.5823, 4846.92015, 4877.98105, 4883.866, 4889.0368, 4889.9995, 4894.7533, 4906.40965, 4915.05985, 4922.9159, 4931.647, 4934.705, 4949.7587, 4992.3764, 5002.7827, 5003.853, 5012.471, 5028.1466, 5031.26955, 5080.096, 5116.5004, 5124.1887, 5125.2157, 5138.2567, 5148.5526, 5152.134, 5209.57885, 5227.98875, 5240.765, 5245.2269, 5246.047, 5253.524, 5257.50795, 5261.46945, 5266.3656, 5267.81815, 5272.1758, 5312.16985, 5325.651, 5327.40025, 5354.07465, 5373.36425, 5375.0380000000005, 5377.4578, 5383.536, 5385.3379, 5397.6167, 5400.9805, 5415.6612, 5425.02335, 5428.7277, 5438.7491, 5458.04645, 5469.0066, 5472.4490000000005, 5478.0368, 5484.4673, 5488.262, 5584.3057, 5594.8455, 5615.369000000001, 5630.45785, 5649.715, 5662.225, 5693.4305, 5699.8375, 5708.866999999999, 5709.1644, 5729.0053, 5757.41345, 5836.5204, 5846.9176, 5855.9025, 5910.944, 5920.1041, 5926.846, 5934.3798, 5966.8874, 5969.723000000001, 5972.378000000001, 5974.3847, 5976.8311, 5979.731, 5989.52365, 6059.173000000001, 6067.12675, 6079.6715, 6082.405, 6112.35295, 6113.23105, 6117.4945, 6123.5688, 6128.79745, 6184.2994, 6185.3208, 6186.1269999999995, 6196.448, 6198.7518, 6203.90175, 6238.298000000001, 6250.435, 6272.4772, 6282.235, 6289.7549, 6311.951999999999, 6313.759, 6334.34355, 6338.0756, 6356.2707, 6358.77645, 6360.9936, 6373.55735, 6389.37785, 6393.60345, 6402.29135, 6406.4107, 6414.178000000001, 6435.6237, 6455.86265, 6457.8434, 6474.013000000001, 6496.8859999999995, 6500.2359, 6548.19505, 6551.7501, 6555.07035, 6571.02435, 6571.544, 6593.5083, 6600.20595, 6600.361, 6610.1097, 6640.54485, 6652.5288, 6653.7886, 6664.68595, 6666.243, 6686.4313, 6710.1919, 6746.7425, 6748.5912, 6753.0380000000005, 6770.1925, 6775.960999999999, 6781.3542, 6796.86325, 6799.4580000000005, 6837.3687, 6849.026, 6858.4796, 6875.960999999999, 6877.9801, 6933.24225, 6940.90985, 6948.7008, 6985.50695, 6986.696999999999, 7045.499, 7046.7222, 7050.0213, 7050.642, 7077.1894, 7133.9025, 7144.86265, 7147.105, 7147.4728, 7151.092, 7152.6714, 7153.5539, 7160.094, 7160.3303, 7162.0122, 7173.35995, 7196.866999999999, 7201.70085, 7209.4918, 7222.78625, 7228.21565, 7243.8136, 7256.7231, 7261.741, 7265.7025, 7281.5056, 7323.734818999999, 7325.0482, 7337.7480000000005, 7345.084, 7345.7266, 7348.142, 7358.17565, 7371.772, 7418.522, 7419.4779, 7421.19455, 7441.053000000001, 7441.501, 7443.64305, 7445.918000000001, 7448.40395, 7512.267, 7518.02535, 7526.70645, 7537.1639, 7623.518, 7624.63, 7626.993, 7633.7206, 7639.41745, 7640.3092, 7650.77375, 7682.67, 7726.854, 7727.2532, 7729.64575, 7731.4271, 7731.85785, 7740.3369999999995, 7742.1098, 7749.1564, 7789.635, 7804.1605, 7935.29115, 7954.517, 7985.815, 7986.47525, 8017.06115, 8023.13545, 8026.6666, 8027.968000000001, 8059.6791, 8062.764, 8068.185, 8083.9198, 8116.26885, 8116.68, 8124.4084, 8125.7845, 8162.71625, 8211.1002, 8219.2039, 8232.6388, 8233.0975, 8240.5896, 8252.2843, 8269.044, 8277.523000000001, 8280.6227, 8283.6807, 8302.53565, 8310.83915, 8334.45755, 8334.5896, 8342.90875, 8347.1643, 8410.04685, 8413.46305, 8428.0693, 8442.667, 8444.474, 8457.818000000001, 8515.7587, 8516.829, 8520.026, 8522.003, 8527.532, 8534.6718, 8538.28845, 8539.671, 8547.6913, 8551.347, 8556.907, 8569.8618, 8582.3023, 8596.8278, 8601.3293, 8603.8234, 8604.48365, 8605.3615, 8606.2174, 8615.3, 8627.5411, 8671.19125, 8688.85885, 8703.456, 8733.22925, 8765.249, 8782.469000000001, 8798.593, 8823.279, 8823.98575, 8825.086, 8827.2099, 8835.26495, 8871.1517, 8891.1395, 8930.93455, 8932.084, 8944.1151, 8964.06055, 8965.79575, 8968.33, 8978.1851, 8988.15875, 9048.0273, 9058.7303, 9095.06825, 9101.798, 9140.951, 9144.565, 9174.13565, 9182.17, 9193.8385, 9222.4026, 9225.2564, 9249.4952, 9264.796999999999, 9282.4806, 9283.562, 9288.0267, 9290.1395, 9301.89355, 9304.7019, 9361.3268, 9377.9047, 9386.1613, 9391.346, 9411.005, 9414.92, 9432.9253, 9447.25035, 9447.3824, 9487.6442, 9500.57305, 9504.3103, 9541.69555, 9549.5651, 9563.029, 9566.9909, 9583.8933, 9617.66245, 9620.3307, 9625.92, 9630.396999999999, 9634.538, 9644.2525, 9704.66805, 9715.841, 9722.7695, 9724.53, 9748.9106, 9778.3472, 9788.8659, 9800.8882, 9850.431999999999, 9855.1314, 9861.025, 9863.4718, 9866.30485, 9869.8102, 9872.701, 9875.6804, 9877.6077, 9880.068000000001, 9910.35985, 9957.7216, 9964.06, 9991.03765, 10043.249, 10065.413, 10072.05505, 10085.846, 10096.97, 10106.13425, 10107.2206, 10115.00885, 10118.424, 10141.1362, 10156.7832, 10197.7722, 10214.636, 10226.2842, 10231.4999, 10264.4421, 10269.46, 10325.206, 10338.9316, 10355.641, 10370.91255, 10381.4787, 10407.08585, 10422.91665, 10435.06525, 10436.096, 10450.552, 10461.9794, 10493.9458, 10560.4917, 10564.8845, 10577.087, 10579.711000000001, 10594.2257, 10594.50155, 10600.5483, 10601.412, 10601.63225, 10602.385, 10702.6424, 10704.47, 10713.643999999998, 10736.87075, 10791.96, 10795.937329999999, 10796.35025, 10797.3362, 10806.839, 10807.4863, 10825.2537, 10848.1343, 10923.9332, 10928.848999999998, 10942.13205, 10959.33, 10959.6947, 10965.446000000002, 10976.24575, 10977.2063, 10982.5013, 11013.7119, 11015.1747, 11033.6617, 11070.535, 11073.176000000001, 11082.5772, 11085.5868, 11090.7178, 11093.6229, 11150.78, 11163.568000000001, 11165.41765, 11187.6567, 11244.3769, 11253.421, 11264.541000000001, 11272.331390000001, 11286.5387, 11289.10925, 11299.343, 11305.93455, 11326.71487, 11345.518999999998, 11353.2276, 11356.6609, 11362.755, 11363.2832, 11365.952, 11381.3254, 11394.06555, 11396.9002, 11411.685, 11436.73815, 11454.0215, 11455.28, 11482.63485, 11488.31695, 11512.405, 11520.09985, 11534.87265, 11538.421, 11552.903999999999, 11554.2236, 11566.30055, 11576.13, 11657.7189, 11658.11505, 11658.37915, 11674.13, 11729.6795, 11735.87905, 11737.84884, 11741.726, 11743.298999999999, 11743.9341, 11763.0009, 11830.6072, 11833.7823, 11837.16, 11840.77505, 11842.442, 11842.62375, 11848.141000000001, 11856.4115, 11879.10405, 11881.358, 11881.9696, 11884.04858, 11931.12525, 11938.25595, 11944.59435, 11945.1327, 11946.6259, 11987.1682, 12029.2867, 12032.326000000001, 12044.341999999999, 12094.478000000001, 12096.6512, 12105.32, 12124.9924, 12129.61415, 12142.5786, 12146.971000000001, 12222.8983, 12224.35085, 12231.6136, 12233.828000000001, 12235.8392, 12244.531, 12265.5069, 12268.63225, 12269.68865, 12323.936000000002, 12333.828000000001, 12347.171999999999, 12363.546999999999, 12404.8791, 12430.95335, 12475.3513, 12479.70895, 12485.8009, 12495.29085, 12523.6048, 12557.6053, 12574.048999999999, 12592.5345, 12609.88702, 12622.1795, 12629.1656, 12629.8967, 12638.195, 12643.3778, 12644.589, 12646.207, 12648.7034, 12730.9996, 12741.16745, 12797.20962, 12815.44495, 12829.4551, 12890.05765, 12913.9924, 12925.886, 12928.7911, 12949.1554, 12950.0712, 12957.118, 12979.358, 12981.3457, 12982.8747, 13012.20865, 13019.16105, 13041.921, 13047.33235, 13063.883, 13112.6048, 13126.67745, 13129.60345, 13143.33665, 13143.86485, 13204.28565, 13217.0945, 13224.05705, 13224.693000000001, 13228.84695, 13352.0998, 13390.559, 13393.756000000001, 13405.3903, 13415.0381, 13429.0354, 13430.265, 13451.122, 13457.9608, 13462.52, 13470.8044, 13470.86, 13555.0049, 13607.36875, 13616.3586, 13635.6379, 13725.47184, 13747.87235, 13770.0979, 13822.803, 13831.1152, 13844.506000000001, 13844.7972, 13880.948999999999, 13887.204, 13887.9685, 13919.8229, 13937.6665, 13974.45555, 13981.85035, 14001.1338, 14001.2867, 14007.222, 14043.4767, 14119.62, 14133.03775, 14210.53595, 14235.072, 14254.6082, 14256.1928, 14283.4594, 14313.8463, 14319.031, 14349.8544, 14358.36437, 14382.70905, 14394.39815, 14394.5579, 14410.9321, 14418.2804, 14426.07385, 14449.8544, 14451.83515, 14455.64405, 14474.675, 14478.33015, 14571.8908, 14590.63205, 14692.66935, 14711.7438, 14901.5167, 14988.431999999999, 15006.57945, 15019.76005, 15161.5344, 15170.069, 15230.32405, 15359.1045, 15518.18025, 15555.18875, 15612.19335, 15817.9857, 15820.698999999999, 15828.821730000001, 16069.08475, 16085.1275, 16115.3045, 16138.76205, 16232.847, 16297.846000000001, 16420.49455, 16450.8947, 16455.70785, 16577.7795, 16586.49771, 16657.71745, 16776.30405, 16796.41194, 16884.924, 17043.3414, 17081.08, 17085.2676, 17128.42608, 17178.6824, 17179.522, 17352.6803, 17361.7661, 17468.9839, 17496.306, 17560.37975, 17626.23951, 17663.1442, 17748.5062, 17878.900680000002, 17904.52705, 17929.303369999998, 17942.106, 18033.9679, 18157.876, 18218.16139, 18223.4512, 18246.4955, 18259.216, 18310.742, 18328.2381, 18608.262, 18648.4217, 18765.87545, 18767.7377, 18804.7524, 18806.14547, 18838.70366, 18903.49141, 18955.22017, 18963.171919999997, 18972.495, 19023.26, 19040.876, 19107.7796, 19144.57652, 19199.944, 19214.705530000003, 19350.3689, 19361.9988, 19442.3535, 19444.2658, 19496.71917, 19515.5416, 19521.9682, 19539.243000000002, 19594.80965, 19673.335730000003, 19719.6947, 19749.383380000003, 19798.05455, 19933.458, 19964.7463, 20009.63365, 20149.3229, 20167.336030000002, 20177.671130000002, 20234.85475, 20277.80751, 20296.86345, 20420.60465, 20462.99766, 20630.28351, 20709.02034, 20745.9891, 20773.62775, 20781.48892, 20878.78443, 20984.0936, 21082.16, 21098.55405, 21195.818, 21223.6758, 21232.182259999998, 21259.37795, 21344.8467, 21348.706000000002, 21472.4788, 21595.38229, 21659.9301, 21677.28345, 21771.3423, 21774.32215, 21797.0004, 21880.82, 21978.6769, 21984.47061, 22144.032000000003, 22192.43711, 22218.1149, 22331.5668, 22395.74424, 22412.6485, 22462.04375, 22478.6, 22493.65964, 23045.56616, 23065.4207, 23082.95533, 23241.47453, 23244.7902, 23288.9284, 23306.547000000002, 23401.30575, 23563.016180000002, 23568.272, 23807.2406, 23887.6627, 23967.38305, 24059.68019, 24106.91255, 24180.9335, 24227.33724, 24393.6224, 24476.47851, 24513.09126, 24520.264, 24535.69855, 24603.04837, 24667.418999999998, 24671.66334, 24869.8368, 24873.3849, 24915.04626, 24915.22085, 25081.76784, 25309.488999999998, 25333.33284, 25382.297000000002, 25517.11363, 25656.575259999998, 25678.77845, 25992.82104, 26018.95052, 26109.32905, 26125.674769999998, 26140.3603, 26236.57997, 26392.260290000002, 26467.09737, 26926.5144, 27000.98473, 27037.9141, 27117.99378, 27218.43725, 27322.733860000004, 27346.04207, 27375.90478, 27533.9129, 27724.28875, 27808.7251, 27941.28758, 28101.33305, 28287.897660000002, 28340.18885, 28468.91901, 28476.734989999997, 28868.6639, 28923.136919999997, 28950.4692, 29141.3603, 29186.48236, 29330.98315, 29523.1656, 30063.58055, 30166.618169999998, 30184.9367, 30259.995560000003, 30284.642939999998, 30942.1918, 31620.001060000002, 32108.662819999998, 32548.3405, 32734.1863, 32787.458589999995, 33307.5508, 33471.97189, 33475.81715, 33732.6867, 33750.2918, 33900.653, 33907.547999999995, 34166.273, 34254.05335, 34303.1672, 34439.8559, 34472.841, 34617.84065, 34672.1472, 34779.615, 34806.4677, 34828.654, 34838.873, 35069.37452, 35147.52848, 35160.13457, 35491.64, 35585.576, 35595.5898, 36021.0112, 36085.219, 36124.5737, 36149.4835, 36189.1017, 36197.699, 36219.40545, 36307.7983, 36397.576, 36580.28216, 36837.467000000004, 36898.73308, 36910.60803, 36950.2567, 37079.372, 37133.8982, 37165.1638, 37270.1512, 37465.34375, 37484.4493, 37607.5277, 37701.8768, 37742.5757, 37829.7242, 38126.2465, 38245.59327, 38282.7495, 38344.566, 38415.474, 38511.6283, 38709.176, 38711.0, 38746.3551, 38792.6856, 38998.546, 39047.285, 39125.33225, 39241.442, 39556.4945, 39597.4072, 39611.7577, 39722.7462, 39725.51805, 39727.614, 39774.2763, 39836.519, 39871.7043, 39983.42595, 40003.33225, 40103.89, 40182.246, 40273.6455, 40419.0191, 40720.55105, 40904.1995, 40932.4295, 40941.2854, 40974.1649, 41034.2214, 41097.16175, 41661.602, 41676.0811, 41919.097, 41949.2441, 41999.52, 42111.6647, 42112.2356, 42124.5153, 42211.1382, 42303.69215, 42560.4304, 42760.5022, 42856.837999999996, 42969.8527, 42983.4585, 43254.41795, 43578.9394, 43753.33705, 43813.8661, 43896.3763, 43921.1837, 43943.8761, 44202.6536, 44260.7499, 44400.4064, 44423.803, 44501.3982, 44585.45587, 44641.1974, 45008.9555, 45702.02235, 45710.20785, 45863.205, 46113.511, 46130.5265, 46151.1245, 46200.9851, 46255.1125, 46599.1084, 46661.4424, 46718.16325, 46889.2612, 47055.5321, 47269.85400000001, 47291.055, 47305.305, 47403.88, 47462.894, 47496.49445, 47896.79135, 47928.03, 48173.361, 48517.56315, 48549.17835, 48673.5588, 48675.5177, 48824.45, 48885.135610000005, 48970.2476, 49577.6624, 51194.55914, 52590.82939, 55135.402089999996, 58571.074479999996, 60021.39897, 62592.87309, 63770.42801]\n"
     ]
    }
   ],
   "source": [
    "#Checking the presence of outliers in 'bmi', 'age', and 'charges columns\n",
    "\n",
    "import numpy as np\n",
    "\n",
    "#outliers from BMI using IQR\n",
    "\n",
    "bmi_sort = sorted(df['bmi'])\n",
    "q1_bmi, q3_bmi = np.percentile(bmi_sort,[25,75])\n",
    "iqr_bmi = q3_bmi - q1_bmi\n",
    "bmi_lower_bound = q1_bmi - (1.5*iqr_bmi)\n",
    "bmi_upper_bound = q3_bmi + (1.5*iqr_bmi)\n",
    "\n",
    "print('BMI')\n",
    "print('lower bound bmi :', bmi_lower_bound)\n",
    "print('upper bound bmi :', bmi_upper_bound)\n",
    "\n",
    "outliers_BMI = []\n",
    "for i in bmi_sort:\n",
    "    if i < bmi_lower_bound or i > bmi_upper_bound:\n",
    "        outliers_BMI.append(i)\n",
    "print('outliers from BMI :', outliers_BMI)\n",
    "\n",
    "#outliers from Age using IQR\n",
    "\n",
    "age_sort = sorted(df['age'])\n",
    "q1_age, q3_age = np.percentile(age_sort,[25,75])\n",
    "iqr_age = q3_age - q1_age\n",
    "age_lower_bound = q1_age - (1.5*iqr_age)\n",
    "age_upper_bound = q3_age + (1.5*iqr_age)\n",
    "\n",
    "print('---------------------------------')\n",
    "print('AGE')\n",
    "print('lower bound age :', age_lower_bound)\n",
    "print('upper bound age :', age_upper_bound)\n",
    "\n",
    "outliers_age = []\n",
    "for i in age_sort:\n",
    "    if i < age_lower_bound or i > age_upper_bound:\n",
    "        outliers_age.append(i)\n",
    "print('outliers from AGE :', outliers_age)\n",
    "\n",
    "#outliers from Charges using IQR\n",
    "\n",
    "chg_sort = sorted(df['charges'])\n",
    "q1_chg, q3_chg = np.percentile(bmi_sort,[25,75])\n",
    "iqr_chg = q3_chg - q1_chg\n",
    "chg_lower_bound = q1_chg - (1.5*iqr_chg)\n",
    "chg_upper_bound = q3_chg + (1.5*iqr_chg)\n",
    "\n",
    "print('---------------------------------')\n",
    "print('Charges')\n",
    "print('lower bound charge :', chg_lower_bound)\n",
    "print('upper bound charge :', chg_upper_bound)\n",
    "\n",
    "outliers_chg = []\n",
    "for i in chg_sort:\n",
    "    if i < chg_lower_bound or i > chg_upper_bound:\n",
    "        outliers_chg.append(i)\n",
    "print('outliers from Charges :', outliers_chg)"
   ]
  },
  {
   "cell_type": "markdown",
   "metadata": {},
   "source": [
    "##### Analyze the results of calculating outliers\n",
    "Dari hasil perhitungan outliers menggunakan IQR diatas, diketahui bahwa hasil untuk 'age' dan 'charges' menimbulkan pertanyaan karena pada 'age' menunjukkan tidak adanya outliers, sedangkan pada 'charge' outliers terlalu banyak. Hal ini cukup wajar mengingat kedua atribut ini tidak memiliki distribusi normal. Maka untuk analisa lebih lanjut kita perlu membuat boxplot untuk kedua data kolom ini."
   ]
  },
  {
   "cell_type": "code",
   "execution_count": 63,
   "metadata": {},
   "outputs": [
    {
     "data": {
      "text/plain": [
       "Text(0.5, 1.0, 'box plot from charge')"
      ]
     },
     "execution_count": 63,
     "metadata": {},
     "output_type": "execute_result"
    },
    {
     "data": {
      "image/png": "[encoded data removed]",
      "text/plain": [
       "<Figure size 432x288 with 2 Axes>"
      ]
     },
     "metadata": {
      "needs_background": "light"
     },
     "output_type": "display_data"
    }
   ],
   "source": [
    "bx1 = plt.subplot(1,2,1)\n",
    "bx1.boxplot(df['age'])\n",
    "bx1.set_title('box plot from age')\n",
    "\n",
    "bx2 = plt.subplot(1,2,2)\n",
    "bx2.boxplot(df['charges'])\n",
    "bx2.set_title('box plot from charge')"
   ]
  },
  {
   "cell_type": "markdown",
   "metadata": {},
   "source": [
    "dari gambar boxplot diatas, dapat dianalisa bahwa untuk kolom 'age' tidak ada yang dianggap sebagai outliers karena distribusi data cukup merata, sedangkan untuk kolom charges, saya membuat keputusan dengan mengatakan data dengan nilai diatas 33000 sebagai outliers."
   ]
  },
  {
   "cell_type": "code",
   "execution_count": 64,
   "metadata": {},
   "outputs": [
    {
     "name": "stdout",
     "output_type": "stream",
     "text": [
      "Outliers from charges: [1121.8739, 1131.5066, 1135.9407, 1136.3994, 1137.011, 1137.4697, 1141.4451, 1146.7966, 1149.3959, 1163.4627, 1241.565, 1242.26, 1242.816, 1252.407, 1253.9360000000001, 1256.299, 1261.442, 1261.859, 1263.249, 1391.5287, 1515.3449, 1526.3120000000001, 1532.4697, 1534.3045, 1607.5101, 1615.7667, 1621.3402, 1621.8827, 1622.1885, 1625.43375, 1627.28245, 1628.4709, 1629.8335, 1631.6683, 1631.8212, 1632.03625, 1632.56445, 1633.0444, 1633.9618, 1634.5734, 1635.73365, 1639.5631, 1639.5631, 1646.4297, 1664.9996, 1674.6323, 1682.5970000000002, 1694.7964, 1702.4553, 1704.5681, 1704.70015, 1705.6245, 1708.0014, 1708.92575, 1711.0268, 1712.227, 1719.4363, 1720.3537, 1725.5523, 1727.54, 1727.785, 1728.8970000000002, 1731.6770000000001, 1737.376, 1743.214, 1744.465, 1748.774, 1759.338, 1769.53165, 1815.8759, 1824.2854, 1826.8429999999998, 1832.094, 1837.237, 1837.2819, 1842.519, 1875.344, 1877.9294, 1880.07, 1880.487, 1906.35825, 1909.52745, 1917.3184, 1964.78, 1967.0227, 1969.614, 1972.95, 1977.815, 1980.07, 1981.5819, 1984.4533, 1986.9334, 2007.945, 2020.1770000000001, 2020.5523, 2026.9741, 2045.68525, 2055.3249, 2102.2647, 2103.08, 2104.1134, 2117.33885, 2128.43105, 2130.6759, 2134.9015, 2136.88225, 2137.6536, 2138.0707, 2150.469, 2154.361, 2155.6815, 2156.7518, 2166.732, 2196.4732, 2198.18985, 2200.83085, 2201.0971, 2203.47185, 2203.73595, 2205.9808, 2207.69745, 2211.13075, 2217.46915, 2217.6012, 2219.4451, 2221.56445, 2250.8352, 2254.7967, 2257.47525, 2261.5688, 2302.3, 2304.0022, 2322.6218, 2331.519, 2352.96845, 2362.22905, 2395.17155, 2396.0959, 2404.7338, 2416.955, 2438.0552, 2457.21115, 2457.502, 2459.7201, 2464.6188, 2473.3341, 2480.9791, 2483.736, 2494.022, 2497.0383, 2498.4144, 2523.1695, 2527.81865, 2534.39375, 2566.4707, 2585.269, 2585.85065, 2597.779, 2632.992, 2639.0429, 2643.2685, 2680.9493, 2689.4954, 2690.1138, 2699.56835, 2709.1119, 2709.24395, 2710.82855, 2719.27975, 2721.3208, 2727.3951, 2730.10785, 2731.9122, 2741.948, 2755.02095, 2775.19215, 2789.0574, 2801.2588, 2803.69785, 2842.76075, 2850.68375, 2855.43755, 2866.091, 2867.1196, 2897.3235, 2899.48935, 2902.9065, 2904.0879999999997, 2913.5690000000004, 2927.0647, 2974.1259999999997, 3021.80915, 3044.2133, 3046.062, 3056.3881, 3062.50825, 3070.8087, 3077.0955, 3161.454, 3167.45585, 3171.6149, 3172.018, 3176.2877, 3176.8159, 3180.5101, 3201.24515, 3206.49135, 3208.7870000000003, 3213.62205, 3227.1211, 3238.4357, 3260.199, 3268.84665, 3277.1609999999996, 3279.86855, 3292.52985, 3309.7926, 3353.284, 3353.4703, 3366.6697, 3378.91, 3385.39915, 3392.3652, 3392.9768, 3393.35635, 3410.324, 3443.0640000000003, 3471.4096, 3481.868, 3484.3309999999997, 3490.5491, 3500.6123, 3537.703, 3554.203, 3556.9223, 3558.62025, 3561.8889, 3577.9990000000003, 3579.8287, 3591.48, 3594.17085, 3597.5959999999995, 3645.0894, 3659.3459999999995, 3693.428, 3704.3545, 3732.6251, 3736.4647, 3756.6216, 3757.8448, 3761.292, 3766.8838, 3847.6740000000004, 3857.75925, 3861.20965, 3866.8552, 3875.7341, 3877.30425, 3906.127, 3925.7582, 3935.1799, 3943.5954, 3947.4131, 3956.07145, 3972.9247, 3981.9768, 3987.926, 3989.841, 3994.1778, 4005.4225, 4032.2407, 4040.55825, 4058.1161, 4058.71245, 4074.4537, 4076.4970000000003, 4133.64165, 4134.08245, 4137.5227, 4149.736, 4151.0287, 4185.0979, 4189.1131, 4234.927, 4237.12655, 4239.89265, 4243.59005, 4260.744000000001, 4266.1658, 4296.2712, 4320.41085, 4337.7352, 4340.4409, 4347.02335, 4349.462, 4350.5144, 4357.04365, 4391.652, 4399.731, 4402.233, 4415.1588, 4428.88785, 4433.3877, 4433.9159, 4435.0942, 4438.2634, 4441.21315, 4449.462, 4454.40265, 4462.7218, 4463.2051, 4466.6214, 4500.33925, 4504.6624, 4518.82625, 4527.18295, 4529.477, 4536.259, 4544.2348, 4561.1885, 4562.8421, 4564.19145, 4571.41305, 4618.0799, 4646.759, 4661.28635, 4667.60765, 4670.64, 4673.3922, 4686.3887, 4687.7970000000005, 4718.20355, 4719.52405, 4719.73655, 4738.2682, 4746.344, 4747.0529, 4751.07, 4753.6368, 4762.329000000001, 4766.022, 4779.6023, 4795.6568, 4827.90495, 4830.63, 4837.5823, 4846.92015, 4877.98105, 4883.866, 4889.0368, 4889.9995, 4894.7533, 4906.40965, 4915.05985, 4922.9159, 4931.647, 4934.705, 4949.7587, 4992.3764, 5002.7827, 5003.853, 5012.471, 5028.1466, 5031.26955, 5080.096, 5116.5004, 5124.1887, 5125.2157, 5138.2567, 5148.5526, 5152.134, 5209.57885, 5227.98875, 5240.765, 5245.2269, 5246.047, 5253.524, 5257.50795, 5261.46945, 5266.3656, 5267.81815, 5272.1758, 5312.16985, 5325.651, 5327.40025, 5354.07465, 5373.36425, 5375.0380000000005, 5377.4578, 5383.536, 5385.3379, 5397.6167, 5400.9805, 5415.6612, 5425.02335, 5428.7277, 5438.7491, 5458.04645, 5469.0066, 5472.4490000000005, 5478.0368, 5484.4673, 5488.262, 5584.3057, 5594.8455, 5615.369000000001, 5630.45785, 5649.715, 5662.225, 5693.4305, 5699.8375, 5708.866999999999, 5709.1644, 5729.0053, 5757.41345, 5836.5204, 5846.9176, 5855.9025, 5910.944, 5920.1041, 5926.846, 5934.3798, 5966.8874, 5969.723000000001, 5972.378000000001, 5974.3847, 5976.8311, 5979.731, 5989.52365, 6059.173000000001, 6067.12675, 6079.6715, 6082.405, 6112.35295, 6113.23105, 6117.4945, 6123.5688, 6128.79745, 6184.2994, 6185.3208, 6186.1269999999995, 6196.448, 6198.7518, 6203.90175, 6238.298000000001, 6250.435, 6272.4772, 6282.235, 6289.7549, 6311.951999999999, 6313.759, 6334.34355, 6338.0756, 6356.2707, 6358.77645, 6360.9936, 6373.55735, 6389.37785, 6393.60345, 6402.29135, 6406.4107, 6414.178000000001, 6435.6237, 6455.86265, 6457.8434, 6474.013000000001, 6496.8859999999995, 6500.2359, 6548.19505, 6551.7501, 6555.07035, 6571.02435, 6571.544, 6593.5083, 6600.20595, 6600.361, 6610.1097, 6640.54485, 6652.5288, 6653.7886, 6664.68595, 6666.243, 6686.4313, 6710.1919, 6746.7425, 6748.5912, 6753.0380000000005, 6770.1925, 6775.960999999999, 6781.3542, 6796.86325, 6799.4580000000005, 6837.3687, 6849.026, 6858.4796, 6875.960999999999, 6877.9801, 6933.24225, 6940.90985, 6948.7008, 6985.50695, 6986.696999999999, 7045.499, 7046.7222, 7050.0213, 7050.642, 7077.1894, 7133.9025, 7144.86265, 7147.105, 7147.4728, 7151.092, 7152.6714, 7153.5539, 7160.094, 7160.3303, 7162.0122, 7173.35995, 7196.866999999999, 7201.70085, 7209.4918, 7222.78625, 7228.21565, 7243.8136, 7256.7231, 7261.741, 7265.7025, 7281.5056, 7323.734818999999, 7325.0482, 7337.7480000000005, 7345.084, 7345.7266, 7348.142, 7358.17565, 7371.772, 7418.522, 7419.4779, 7421.19455, 7441.053000000001, 7441.501, 7443.64305, 7445.918000000001, 7448.40395, 7512.267, 7518.02535, 7526.70645, 7537.1639, 7623.518, 7624.63, 7626.993, 7633.7206, 7639.41745, 7640.3092, 7650.77375, 7682.67, 7726.854, 7727.2532, 7729.64575, 7731.4271, 7731.85785, 7740.3369999999995, 7742.1098, 7749.1564, 7789.635, 7804.1605, 7935.29115, 7954.517, 7985.815, 7986.47525, 8017.06115, 8023.13545, 8026.6666, 8027.968000000001, 8059.6791, 8062.764, 8068.185, 8083.9198, 8116.26885, 8116.68, 8124.4084, 8125.7845, 8162.71625, 8211.1002, 8219.2039, 8232.6388, 8233.0975, 8240.5896, 8252.2843, 8269.044, 8277.523000000001, 8280.6227, 8283.6807, 8302.53565, 8310.83915, 8334.45755, 8334.5896, 8342.90875, 8347.1643, 8410.04685, 8413.46305, 8428.0693, 8442.667, 8444.474, 8457.818000000001, 8515.7587, 8516.829, 8520.026, 8522.003, 8527.532, 8534.6718, 8538.28845, 8539.671, 8547.6913, 8551.347, 8556.907, 8569.8618, 8582.3023, 8596.8278, 8601.3293, 8603.8234, 8604.48365, 8605.3615, 8606.2174, 8615.3, 8627.5411, 8671.19125, 8688.85885, 8703.456, 8733.22925, 8765.249, 8782.469000000001, 8798.593, 8823.279, 8823.98575, 8825.086, 8827.2099, 8835.26495, 8871.1517, 8891.1395, 8930.93455, 8932.084, 8944.1151, 8964.06055, 8965.79575, 8968.33, 8978.1851, 8988.15875, 9048.0273, 9058.7303, 9095.06825, 9101.798, 9140.951, 9144.565, 9174.13565, 9182.17, 9193.8385, 9222.4026, 9225.2564, 9249.4952, 9264.796999999999, 9282.4806, 9283.562, 9288.0267, 9290.1395, 9301.89355, 9304.7019, 9361.3268, 9377.9047, 9386.1613, 9391.346, 9411.005, 9414.92, 9432.9253, 9447.25035, 9447.3824, 9487.6442, 9500.57305, 9504.3103, 9541.69555, 9549.5651, 9563.029, 9566.9909, 9583.8933, 9617.66245, 9620.3307, 9625.92, 9630.396999999999, 9634.538, 9644.2525, 9704.66805, 9715.841, 9722.7695, 9724.53, 9748.9106, 9778.3472, 9788.8659, 9800.8882, 9850.431999999999, 9855.1314, 9861.025, 9863.4718, 9866.30485, 9869.8102, 9872.701, 9875.6804, 9877.6077, 9880.068000000001, 9910.35985, 9957.7216, 9964.06, 9991.03765, 10043.249, 10065.413, 10072.05505, 10085.846, 10096.97, 10106.13425, 10107.2206, 10115.00885, 10118.424, 10141.1362, 10156.7832, 10197.7722, 10214.636, 10226.2842, 10231.4999, 10264.4421, 10269.46, 10325.206, 10338.9316, 10355.641, 10370.91255, 10381.4787, 10407.08585, 10422.91665, 10435.06525, 10436.096, 10450.552, 10461.9794, 10493.9458, 10560.4917, 10564.8845, 10577.087, 10579.711000000001, 10594.2257, 10594.50155, 10600.5483, 10601.412, 10601.63225, 10602.385, 10702.6424, 10704.47, 10713.643999999998, 10736.87075, 10791.96, 10795.937329999999, 10796.35025, 10797.3362, 10806.839, 10807.4863, 10825.2537, 10848.1343, 10923.9332, 10928.848999999998, 10942.13205, 10959.33, 10959.6947, 10965.446000000002, 10976.24575, 10977.2063, 10982.5013, 11013.7119, 11015.1747, 11033.6617, 11070.535, 11073.176000000001, 11082.5772, 11085.5868, 11090.7178, 11093.6229, 11150.78, 11163.568000000001, 11165.41765, 11187.6567, 11244.3769, 11253.421, 11264.541000000001, 11272.331390000001, 11286.5387, 11289.10925, 11299.343, 11305.93455, 11326.71487, 11345.518999999998, 11353.2276, 11356.6609, 11362.755, 11363.2832, 11365.952, 11381.3254, 11394.06555, 11396.9002, 11411.685, 11436.73815, 11454.0215, 11455.28, 11482.63485, 11488.31695, 11512.405, 11520.09985, 11534.87265, 11538.421, 11552.903999999999, 11554.2236, 11566.30055, 11576.13, 11657.7189, 11658.11505, 11658.37915, 11674.13, 11729.6795, 11735.87905, 11737.84884, 11741.726, 11743.298999999999, 11743.9341, 11763.0009, 11830.6072, 11833.7823, 11837.16, 11840.77505, 11842.442, 11842.62375, 11848.141000000001, 11856.4115, 11879.10405, 11881.358, 11881.9696, 11884.04858, 11931.12525, 11938.25595, 11944.59435, 11945.1327, 11946.6259, 11987.1682, 12029.2867, 12032.326000000001, 12044.341999999999, 12094.478000000001, 12096.6512, 12105.32, 12124.9924, 12129.61415, 12142.5786, 12146.971000000001, 12222.8983, 12224.35085, 12231.6136, 12233.828000000001, 12235.8392, 12244.531, 12265.5069, 12268.63225, 12269.68865, 12323.936000000002, 12333.828000000001, 12347.171999999999, 12363.546999999999, 12404.8791, 12430.95335, 12475.3513, 12479.70895, 12485.8009, 12495.29085, 12523.6048, 12557.6053, 12574.048999999999, 12592.5345, 12609.88702, 12622.1795, 12629.1656, 12629.8967, 12638.195, 12643.3778, 12644.589, 12646.207, 12648.7034, 12730.9996, 12741.16745, 12797.20962, 12815.44495, 12829.4551, 12890.05765, 12913.9924, 12925.886, 12928.7911, 12949.1554, 12950.0712, 12957.118, 12979.358, 12981.3457, 12982.8747, 13012.20865, 13019.16105, 13041.921, 13047.33235, 13063.883, 13112.6048, 13126.67745, 13129.60345, 13143.33665, 13143.86485, 13204.28565, 13217.0945, 13224.05705, 13224.693000000001, 13228.84695, 13352.0998, 13390.559, 13393.756000000001, 13405.3903, 13415.0381, 13429.0354, 13430.265, 13451.122, 13457.9608, 13462.52, 13470.8044, 13470.86, 13555.0049, 13607.36875, 13616.3586, 13635.6379, 13725.47184, 13747.87235, 13770.0979, 13822.803, 13831.1152, 13844.506000000001, 13844.7972, 13880.948999999999, 13887.204, 13887.9685, 13919.8229, 13937.6665, 13974.45555, 13981.85035, 14001.1338, 14001.2867, 14007.222, 14043.4767, 14119.62, 14133.03775, 14210.53595, 14235.072, 14254.6082, 14256.1928, 14283.4594, 14313.8463, 14319.031, 14349.8544, 14358.36437, 14382.70905, 14394.39815, 14394.5579, 14410.9321, 14418.2804, 14426.07385, 14449.8544, 14451.83515, 14455.64405, 14474.675, 14478.33015, 14571.8908, 14590.63205, 14692.66935, 14711.7438, 14901.5167, 14988.431999999999, 15006.57945, 15019.76005, 15161.5344, 15170.069, 15230.32405, 15359.1045, 15518.18025, 15555.18875, 15612.19335, 15817.9857, 15820.698999999999, 15828.821730000001, 16069.08475, 16085.1275, 16115.3045, 16138.76205, 16232.847, 16297.846000000001, 16420.49455, 16450.8947, 16455.70785, 16577.7795, 16586.49771, 16657.71745, 16776.30405, 16796.41194, 16884.924, 17043.3414, 17081.08, 17085.2676, 17128.42608, 17178.6824, 17179.522, 17352.6803, 17361.7661, 17468.9839, 17496.306, 17560.37975, 17626.23951, 17663.1442, 17748.5062, 17878.900680000002, 17904.52705, 17929.303369999998, 17942.106, 18033.9679, 18157.876, 18218.16139, 18223.4512, 18246.4955, 18259.216, 18310.742, 18328.2381, 18608.262, 18648.4217, 18765.87545, 18767.7377, 18804.7524, 18806.14547, 18838.70366, 18903.49141, 18955.22017, 18963.171919999997, 18972.495, 19023.26, 19040.876, 19107.7796, 19144.57652, 19199.944, 19214.705530000003, 19350.3689, 19361.9988, 19442.3535, 19444.2658, 19496.71917, 19515.5416, 19521.9682, 19539.243000000002, 19594.80965, 19673.335730000003, 19719.6947, 19749.383380000003, 19798.05455, 19933.458, 19964.7463, 20009.63365, 20149.3229, 20167.336030000002, 20177.671130000002, 20234.85475, 20277.80751, 20296.86345, 20420.60465, 20462.99766, 20630.28351, 20709.02034, 20745.9891, 20773.62775, 20781.48892, 20878.78443, 20984.0936, 21082.16, 21098.55405, 21195.818, 21223.6758, 21232.182259999998, 21259.37795, 21344.8467, 21348.706000000002, 21472.4788, 21595.38229, 21659.9301, 21677.28345, 21771.3423, 21774.32215, 21797.0004, 21880.82, 21978.6769, 21984.47061, 22144.032000000003, 22192.43711, 22218.1149, 22331.5668, 22395.74424, 22412.6485, 22462.04375, 22478.6, 22493.65964, 23045.56616, 23065.4207, 23082.95533, 23241.47453, 23244.7902, 23288.9284, 23306.547000000002, 23401.30575, 23563.016180000002, 23568.272, 23807.2406, 23887.6627, 23967.38305, 24059.68019, 24106.91255, 24180.9335, 24227.33724, 24393.6224, 24476.47851, 24513.09126, 24520.264, 24535.69855, 24603.04837, 24667.418999999998, 24671.66334, 24869.8368, 24873.3849, 24915.04626, 24915.22085, 25081.76784, 25309.488999999998, 25333.33284, 25382.297000000002, 25517.11363, 25656.575259999998, 25678.77845, 25992.82104, 26018.95052, 26109.32905, 26125.674769999998, 26140.3603, 26236.57997, 26392.260290000002, 26467.09737, 26926.5144, 27000.98473, 27037.9141, 27117.99378, 27218.43725, 27322.733860000004, 27346.04207, 27375.90478, 27533.9129, 27724.28875, 27808.7251, 27941.28758, 28101.33305, 28287.897660000002, 28340.18885, 28468.91901, 28476.734989999997, 28868.6639, 28923.136919999997, 28950.4692, 29141.3603, 29186.48236, 29330.98315, 29523.1656, 30063.58055, 30166.618169999998, 30184.9367, 30259.995560000003, 30284.642939999998, 30942.1918, 31620.001060000002, 32108.662819999998, 32548.3405, 32734.1863, 32787.458589999995, 33307.5508, 33471.97189, 33475.81715, 33732.6867, 33750.2918, 33900.653, 33907.547999999995, 34166.273, 34254.05335, 34303.1672, 34439.8559, 34472.841, 34617.84065, 34672.1472, 34779.615, 34806.4677, 34828.654, 34838.873, 35069.37452, 35147.52848, 35160.13457, 35491.64, 35585.576, 35595.5898, 36021.0112, 36085.219, 36124.5737, 36149.4835, 36189.1017, 36197.699, 36219.40545, 36307.7983, 36397.576, 36580.28216, 36837.467000000004, 36898.73308, 36910.60803, 36950.2567, 37079.372, 37133.8982, 37165.1638, 37270.1512, 37465.34375, 37484.4493, 37607.5277, 37701.8768, 37742.5757, 37829.7242, 38126.2465, 38245.59327, 38282.7495, 38344.566, 38415.474, 38511.6283, 38709.176, 38711.0, 38746.3551, 38792.6856, 38998.546, 39047.285, 39125.33225, 39241.442, 39556.4945, 39597.4072, 39611.7577, 39722.7462, 39725.51805, 39727.614, 39774.2763, 39836.519, 39871.7043, 39983.42595, 40003.33225, 40103.89, 40182.246, 40273.6455, 40419.0191, 40720.55105, 40904.1995, 40932.4295, 40941.2854, 40974.1649, 41034.2214, 41097.16175, 41661.602, 41676.0811, 41919.097, 41949.2441, 41999.52, 42111.6647, 42112.2356, 42124.5153, 42211.1382, 42303.69215, 42560.4304, 42760.5022, 42856.837999999996, 42969.8527, 42983.4585, 43254.41795, 43578.9394, 43753.33705, 43813.8661, 43896.3763, 43921.1837, 43943.8761, 44202.6536, 44260.7499, 44400.4064, 44423.803, 44501.3982, 44585.45587, 44641.1974, 45008.9555, 45702.02235, 45710.20785, 45863.205, 46113.511, 46130.5265, 46151.1245, 46200.9851, 46255.1125, 46599.1084, 46661.4424, 46718.16325, 46889.2612, 47055.5321, 47269.85400000001, 47291.055, 47305.305, 47403.88, 47462.894, 47496.49445, 47896.79135, 47928.03, 48173.361, 48517.56315, 48549.17835, 48673.5588, 48675.5177, 48824.45, 48885.135610000005, 48970.2476, 49577.6624, 51194.55914, 52590.82939, 55135.402089999996, 58571.074479999996, 60021.39897, 62592.87309, 63770.42801, 39611.7577, 36837.467000000004, 37701.8768, 38711.0, 35585.576, 51194.55914, 39774.2763, 48173.361, 38709.176, 37742.5757, 47496.49445, 34303.1672, 37165.1638, 39836.519, 43578.9394, 47291.055, 47055.5321, 39556.4945, 40720.55105, 36950.2567, 36149.4835, 48824.45, 43753.33705, 37133.8982, 34779.615, 38511.6283, 35160.13457, 47305.305, 44260.7499, 41097.16175, 43921.1837, 33750.2918, 36219.40545, 46151.1245, 42856.837999999996, 48549.17835, 47896.79135, 42112.2356, 38746.3551, 42124.5153, 34838.873, 35491.64, 42760.5022, 47928.03, 48517.56315, 41919.097, 36085.219, 38126.2465, 42303.69215, 46889.2612, 46599.1084, 39125.33225, 37079.372, 35147.52848, 48885.135610000005, 36197.699, 38245.59327, 48675.5177, 63770.42801, 45863.205, 39983.42595, 45702.02235, 58571.074479999996, 43943.8761, 33471.97189, 39241.442, 42969.8527, 34439.8559, 40182.246, 34617.84065, 42983.4585, 42560.4304, 40003.33225, 45710.20785, 46200.9851, 46130.5265, 40103.89, 34806.4677, 40273.6455, 44400.4064, 40932.4295, 40419.0191, 36189.1017, 44585.45587, 43254.41795, 36307.7983, 38792.6856, 55135.402089999996, 43813.8661, 39597.4072, 36021.0112, 45008.9555, 37270.1512, 42111.6647, 40974.1649, 46113.511, 46255.1125, 44202.6536, 48673.5588, 33732.6867, 35069.37452, 39047.285, 47462.894, 38998.546, 41999.52, 41034.2214, 34472.841, 36580.28216, 35595.5898, 42211.1382, 44423.803, 37484.4493, 39725.51805, 33475.81715, 44501.3982, 39727.614, 48970.2476, 39871.7043, 34672.1472, 41676.0811, 33907.547999999995, 44641.1974, 41949.2441, 36124.5737, 38282.7495, 34166.273, 46661.4424, 40904.1995, 36898.73308, 52590.82939, 40941.2854, 39722.7462, 37465.34375, 33307.5508, 36910.60803, 38415.474, 41661.602, 60021.39897, 47269.85400000001, 49577.6624, 37607.5277, 34254.05335, 47403.88, 38344.566, 34828.654, 62592.87309, 46718.16325, 37829.7242, 33900.653, 36397.576, 43896.3763]\n"
     ]
    }
   ],
   "source": [
    "#outliers from charges\n",
    "\n",
    "ouliers_chg = []\n",
    "\n",
    "for i in df['charges']:\n",
    "    if i > 33000:\n",
    "        outliers_chg.append(i)\n",
    "\n",
    "print('Outliers from charges:',outliers_chg)"
   ]
  },
  {
   "cell_type": "markdown",
   "metadata": {},
   "source": [
    "##### Advanced analysis \n",
    "\n",
    "hasil yang didapatkan ketika saya menentukan batas outlier yang didapatkan dari boxplot memiliki hasil yang sama dengan perhitungan IQR. Hal ini menunjukkan bahwa perhitungan outliers tetap bisa dilakukan dengan IQR walau distribusi nya tidak normal."
   ]
  },
  {
   "cell_type": "markdown",
   "metadata": {},
   "source": [
    "### 2. Answer the following questions with statistical evidence\n",
    "\n",
    "A. Do charges of people who smoke differ significantly from the people who don't? (Hypothesis Testing)"
   ]
  },
  {
   "cell_type": "code",
   "execution_count": 71,
   "metadata": {},
   "outputs": [
    {
     "name": "stdout",
     "output_type": "stream",
     "text": [
      "z score who smoke : 25.669766567189914\n",
      "z score who dont smoke : -13.026459296480342\n"
     ]
    }
   ],
   "source": [
    "import math\n",
    "\n",
    "smoke_count = df[df['smoker']=='yes'].count()[0] #amount data from who smoke\n",
    "notsmoke_count = df[df['smoker']=='no'].count()[0] #amount data from who dont\n",
    "mean_popu = df['charges'].mean() #mean from population\n",
    "std_popu = df['charges'].std() #standard deviation population\n",
    "std_smoke = std_popu/(math.sqrt(smoke_count)) #std who smoke\n",
    "std_notsmoke = std_popu/(math.sqrt(notsmoke_count)) #std who dont \n",
    "\n",
    "\n",
    "df_smoke = df[df['smoker']=='yes'] #dataframe who smoke\n",
    "mean_smoke = df_smoke['charges'].mean() #mean from who smoke\n",
    "\n",
    "df_notsmoke = df[df['smoker']=='no'] #dataframe who dont\n",
    "mean_notsmoke = df_notsmoke['charges'].mean() #mean from who dont\n",
    "\n",
    "# calculate z score from people who smoke\n",
    "z_smoke = (mean_smoke - mean_popu)/std_smoke\n",
    "z_dont = (mean_notsmoke- mean_popu)/std_notsmoke\n",
    "\n",
    "print('z score who smoke :', z_smoke)\n",
    "print('z score who dont smoke :', z_dont)"
   ]
  },
  {
   "cell_type": "markdown",
   "metadata": {},
   "source": [
    "###### so the answer is : yes, they do."
   ]
  }
 ],
 "metadata": {
  "kernelspec": {
   "display_name": "Python 3",
   "language": "python",
   "name": "python3"
  },
  "language_info": {
   "codemirror_mode": {
    "name": "ipython",
    "version": 3
   },
   "file_extension": ".py",
   "mimetype": "text/x-python",
   "name": "python",
   "nbconvert_exporter": "python",
   "pygments_lexer": "ipython3",
   "version": "3.7.4"
  }
 },
 "nbformat": 4,
 "nbformat_minor": 2
}
